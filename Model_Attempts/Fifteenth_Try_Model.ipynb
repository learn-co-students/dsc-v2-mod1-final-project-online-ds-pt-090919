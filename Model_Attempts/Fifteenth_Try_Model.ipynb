{
 "cells": [
  {
   "cell_type": "markdown",
   "metadata": {},
   "source": [
    "# King County Dataset Linear Regression Model 15"
   ]
  },
  {
   "cell_type": "markdown",
   "metadata": {},
   "source": [
    "### Adjustments for this model:\n",
    "    Start with getting rid of 'id'\n",
    "    Then deal with the NaN's in 'view', 'yr_renovated', 'waterfront', and 'sqft_basement'\n",
    "    Change \"?\" in 'sqft_basement', change it to a float.\n",
    "    Take care of outlier in 'bedrooms', \n",
    "    Are there outliers in theres?  'sqft_living','sqft_lot', 'sqft_living15', 'sqft_lot15'\n",
    "    Deal with the 'date' feature?  - I still don't know how!\n",
    "    Bin categorical data: 'view', 'grade', 'sqft_basement', 'yr_renovated', 'waterfront', 'condition', 'zipcode'\n",
    "    Lot Transform right skewed data: 'sqft_above', 'sqft_living','sqft_lot', 'sqft_living15', 'sqft_lot15' \n",
    "    Max/Min: None.\n",
    "    Standardization: 'sqft_above', 'sqft_living','sqft_lot','sqft_living15', 'sqft_lot15'\n",
    "   "
   ]
  },
  {
   "cell_type": "code",
   "execution_count": 1,
   "metadata": {},
   "outputs": [],
   "source": [
    "import pandas as pd\n",
    "import numpy as np\n",
    "import matplotlib.pyplot as plt\n",
    "%matplotlib inline\n",
    "data = pd.read_csv(\"kc_house_data.csv\")"
   ]
  },
  {
   "cell_type": "code",
   "execution_count": 2,
   "metadata": {},
   "outputs": [],
   "source": [
    "# This time I'm going to try to not adjust the original, just a new series called king_features\n",
    "king_features = pd.read_csv(\"kc_house_data.csv\")"
   ]
  },
  {
   "cell_type": "code",
   "execution_count": 3,
   "metadata": {},
   "outputs": [
    {
     "data": {
      "text/html": [
       "<div>\n",
       "<style scoped>\n",
       "    .dataframe tbody tr th:only-of-type {\n",
       "        vertical-align: middle;\n",
       "    }\n",
       "\n",
       "    .dataframe tbody tr th {\n",
       "        vertical-align: top;\n",
       "    }\n",
       "\n",
       "    .dataframe thead th {\n",
       "        text-align: right;\n",
       "    }\n",
       "</style>\n",
       "<table border=\"1\" class=\"dataframe\">\n",
       "  <thead>\n",
       "    <tr style=\"text-align: right;\">\n",
       "      <th></th>\n",
       "      <th>id</th>\n",
       "      <th>price</th>\n",
       "      <th>bedrooms</th>\n",
       "      <th>bathrooms</th>\n",
       "      <th>sqft_living</th>\n",
       "      <th>sqft_lot</th>\n",
       "      <th>floors</th>\n",
       "      <th>waterfront</th>\n",
       "      <th>view</th>\n",
       "      <th>condition</th>\n",
       "      <th>grade</th>\n",
       "      <th>sqft_above</th>\n",
       "      <th>yr_built</th>\n",
       "      <th>yr_renovated</th>\n",
       "      <th>zipcode</th>\n",
       "      <th>lat</th>\n",
       "      <th>long</th>\n",
       "      <th>sqft_living15</th>\n",
       "      <th>sqft_lot15</th>\n",
       "    </tr>\n",
       "  </thead>\n",
       "  <tbody>\n",
       "    <tr>\n",
       "      <th>count</th>\n",
       "      <td>2.159700e+04</td>\n",
       "      <td>2.159700e+04</td>\n",
       "      <td>21597.000000</td>\n",
       "      <td>21597.000000</td>\n",
       "      <td>21597.000000</td>\n",
       "      <td>2.159700e+04</td>\n",
       "      <td>21597.000000</td>\n",
       "      <td>19221.000000</td>\n",
       "      <td>21534.000000</td>\n",
       "      <td>21597.000000</td>\n",
       "      <td>21597.000000</td>\n",
       "      <td>21597.000000</td>\n",
       "      <td>21597.000000</td>\n",
       "      <td>17755.000000</td>\n",
       "      <td>21597.000000</td>\n",
       "      <td>21597.000000</td>\n",
       "      <td>21597.000000</td>\n",
       "      <td>21597.000000</td>\n",
       "      <td>21597.000000</td>\n",
       "    </tr>\n",
       "    <tr>\n",
       "      <th>mean</th>\n",
       "      <td>4.580474e+09</td>\n",
       "      <td>5.402966e+05</td>\n",
       "      <td>3.373200</td>\n",
       "      <td>2.115826</td>\n",
       "      <td>2080.321850</td>\n",
       "      <td>1.509941e+04</td>\n",
       "      <td>1.494096</td>\n",
       "      <td>0.007596</td>\n",
       "      <td>0.233863</td>\n",
       "      <td>3.409825</td>\n",
       "      <td>7.657915</td>\n",
       "      <td>1788.596842</td>\n",
       "      <td>1970.999676</td>\n",
       "      <td>83.636778</td>\n",
       "      <td>98077.951845</td>\n",
       "      <td>47.560093</td>\n",
       "      <td>-122.213982</td>\n",
       "      <td>1986.620318</td>\n",
       "      <td>12758.283512</td>\n",
       "    </tr>\n",
       "    <tr>\n",
       "      <th>std</th>\n",
       "      <td>2.876736e+09</td>\n",
       "      <td>3.673681e+05</td>\n",
       "      <td>0.926299</td>\n",
       "      <td>0.768984</td>\n",
       "      <td>918.106125</td>\n",
       "      <td>4.141264e+04</td>\n",
       "      <td>0.539683</td>\n",
       "      <td>0.086825</td>\n",
       "      <td>0.765686</td>\n",
       "      <td>0.650546</td>\n",
       "      <td>1.173200</td>\n",
       "      <td>827.759761</td>\n",
       "      <td>29.375234</td>\n",
       "      <td>399.946414</td>\n",
       "      <td>53.513072</td>\n",
       "      <td>0.138552</td>\n",
       "      <td>0.140724</td>\n",
       "      <td>685.230472</td>\n",
       "      <td>27274.441950</td>\n",
       "    </tr>\n",
       "    <tr>\n",
       "      <th>min</th>\n",
       "      <td>1.000102e+06</td>\n",
       "      <td>7.800000e+04</td>\n",
       "      <td>1.000000</td>\n",
       "      <td>0.500000</td>\n",
       "      <td>370.000000</td>\n",
       "      <td>5.200000e+02</td>\n",
       "      <td>1.000000</td>\n",
       "      <td>0.000000</td>\n",
       "      <td>0.000000</td>\n",
       "      <td>1.000000</td>\n",
       "      <td>3.000000</td>\n",
       "      <td>370.000000</td>\n",
       "      <td>1900.000000</td>\n",
       "      <td>0.000000</td>\n",
       "      <td>98001.000000</td>\n",
       "      <td>47.155900</td>\n",
       "      <td>-122.519000</td>\n",
       "      <td>399.000000</td>\n",
       "      <td>651.000000</td>\n",
       "    </tr>\n",
       "    <tr>\n",
       "      <th>25%</th>\n",
       "      <td>2.123049e+09</td>\n",
       "      <td>3.220000e+05</td>\n",
       "      <td>3.000000</td>\n",
       "      <td>1.750000</td>\n",
       "      <td>1430.000000</td>\n",
       "      <td>5.040000e+03</td>\n",
       "      <td>1.000000</td>\n",
       "      <td>0.000000</td>\n",
       "      <td>0.000000</td>\n",
       "      <td>3.000000</td>\n",
       "      <td>7.000000</td>\n",
       "      <td>1190.000000</td>\n",
       "      <td>1951.000000</td>\n",
       "      <td>0.000000</td>\n",
       "      <td>98033.000000</td>\n",
       "      <td>47.471100</td>\n",
       "      <td>-122.328000</td>\n",
       "      <td>1490.000000</td>\n",
       "      <td>5100.000000</td>\n",
       "    </tr>\n",
       "    <tr>\n",
       "      <th>50%</th>\n",
       "      <td>3.904930e+09</td>\n",
       "      <td>4.500000e+05</td>\n",
       "      <td>3.000000</td>\n",
       "      <td>2.250000</td>\n",
       "      <td>1910.000000</td>\n",
       "      <td>7.618000e+03</td>\n",
       "      <td>1.500000</td>\n",
       "      <td>0.000000</td>\n",
       "      <td>0.000000</td>\n",
       "      <td>3.000000</td>\n",
       "      <td>7.000000</td>\n",
       "      <td>1560.000000</td>\n",
       "      <td>1975.000000</td>\n",
       "      <td>0.000000</td>\n",
       "      <td>98065.000000</td>\n",
       "      <td>47.571800</td>\n",
       "      <td>-122.231000</td>\n",
       "      <td>1840.000000</td>\n",
       "      <td>7620.000000</td>\n",
       "    </tr>\n",
       "    <tr>\n",
       "      <th>75%</th>\n",
       "      <td>7.308900e+09</td>\n",
       "      <td>6.450000e+05</td>\n",
       "      <td>4.000000</td>\n",
       "      <td>2.500000</td>\n",
       "      <td>2550.000000</td>\n",
       "      <td>1.068500e+04</td>\n",
       "      <td>2.000000</td>\n",
       "      <td>0.000000</td>\n",
       "      <td>0.000000</td>\n",
       "      <td>4.000000</td>\n",
       "      <td>8.000000</td>\n",
       "      <td>2210.000000</td>\n",
       "      <td>1997.000000</td>\n",
       "      <td>0.000000</td>\n",
       "      <td>98118.000000</td>\n",
       "      <td>47.678000</td>\n",
       "      <td>-122.125000</td>\n",
       "      <td>2360.000000</td>\n",
       "      <td>10083.000000</td>\n",
       "    </tr>\n",
       "    <tr>\n",
       "      <th>max</th>\n",
       "      <td>9.900000e+09</td>\n",
       "      <td>7.700000e+06</td>\n",
       "      <td>33.000000</td>\n",
       "      <td>8.000000</td>\n",
       "      <td>13540.000000</td>\n",
       "      <td>1.651359e+06</td>\n",
       "      <td>3.500000</td>\n",
       "      <td>1.000000</td>\n",
       "      <td>4.000000</td>\n",
       "      <td>5.000000</td>\n",
       "      <td>13.000000</td>\n",
       "      <td>9410.000000</td>\n",
       "      <td>2015.000000</td>\n",
       "      <td>2015.000000</td>\n",
       "      <td>98199.000000</td>\n",
       "      <td>47.777600</td>\n",
       "      <td>-121.315000</td>\n",
       "      <td>6210.000000</td>\n",
       "      <td>871200.000000</td>\n",
       "    </tr>\n",
       "  </tbody>\n",
       "</table>\n",
       "</div>"
      ],
      "text/plain": [
       "                 id         price      bedrooms     bathrooms   sqft_living  \\\n",
       "count  2.159700e+04  2.159700e+04  21597.000000  21597.000000  21597.000000   \n",
       "mean   4.580474e+09  5.402966e+05      3.373200      2.115826   2080.321850   \n",
       "std    2.876736e+09  3.673681e+05      0.926299      0.768984    918.106125   \n",
       "min    1.000102e+06  7.800000e+04      1.000000      0.500000    370.000000   \n",
       "25%    2.123049e+09  3.220000e+05      3.000000      1.750000   1430.000000   \n",
       "50%    3.904930e+09  4.500000e+05      3.000000      2.250000   1910.000000   \n",
       "75%    7.308900e+09  6.450000e+05      4.000000      2.500000   2550.000000   \n",
       "max    9.900000e+09  7.700000e+06     33.000000      8.000000  13540.000000   \n",
       "\n",
       "           sqft_lot        floors    waterfront          view     condition  \\\n",
       "count  2.159700e+04  21597.000000  19221.000000  21534.000000  21597.000000   \n",
       "mean   1.509941e+04      1.494096      0.007596      0.233863      3.409825   \n",
       "std    4.141264e+04      0.539683      0.086825      0.765686      0.650546   \n",
       "min    5.200000e+02      1.000000      0.000000      0.000000      1.000000   \n",
       "25%    5.040000e+03      1.000000      0.000000      0.000000      3.000000   \n",
       "50%    7.618000e+03      1.500000      0.000000      0.000000      3.000000   \n",
       "75%    1.068500e+04      2.000000      0.000000      0.000000      4.000000   \n",
       "max    1.651359e+06      3.500000      1.000000      4.000000      5.000000   \n",
       "\n",
       "              grade    sqft_above      yr_built  yr_renovated       zipcode  \\\n",
       "count  21597.000000  21597.000000  21597.000000  17755.000000  21597.000000   \n",
       "mean       7.657915   1788.596842   1970.999676     83.636778  98077.951845   \n",
       "std        1.173200    827.759761     29.375234    399.946414     53.513072   \n",
       "min        3.000000    370.000000   1900.000000      0.000000  98001.000000   \n",
       "25%        7.000000   1190.000000   1951.000000      0.000000  98033.000000   \n",
       "50%        7.000000   1560.000000   1975.000000      0.000000  98065.000000   \n",
       "75%        8.000000   2210.000000   1997.000000      0.000000  98118.000000   \n",
       "max       13.000000   9410.000000   2015.000000   2015.000000  98199.000000   \n",
       "\n",
       "                lat          long  sqft_living15     sqft_lot15  \n",
       "count  21597.000000  21597.000000   21597.000000   21597.000000  \n",
       "mean      47.560093   -122.213982    1986.620318   12758.283512  \n",
       "std        0.138552      0.140724     685.230472   27274.441950  \n",
       "min       47.155900   -122.519000     399.000000     651.000000  \n",
       "25%       47.471100   -122.328000    1490.000000    5100.000000  \n",
       "50%       47.571800   -122.231000    1840.000000    7620.000000  \n",
       "75%       47.678000   -122.125000    2360.000000   10083.000000  \n",
       "max       47.777600   -121.315000    6210.000000  871200.000000  "
      ]
     },
     "execution_count": 3,
     "metadata": {},
     "output_type": "execute_result"
    }
   ],
   "source": [
    "king_features.describe()"
   ]
  },
  {
   "cell_type": "markdown",
   "metadata": {},
   "source": [
    "### Missing Data"
   ]
  },
  {
   "cell_type": "code",
   "execution_count": 4,
   "metadata": {},
   "outputs": [],
   "source": [
    "# Change \"?\" in 'sqft_basement' to '0';\n",
    "king_features.sqft_basement = king_features.sqft_basement.replace(to_replace = '?', value = '0')"
   ]
  },
  {
   "cell_type": "code",
   "execution_count": 5,
   "metadata": {},
   "outputs": [],
   "source": [
    "# Account for missing data in 'waterfront', 'view', 'yr_renovated';\n",
    "king_features.waterfront.fillna(value=king_features.waterfront.median(), inplace = True)\n",
    "king_features.view.fillna(value=king_features.view.median(), inplace = True)\n",
    "king_features.yr_renovated.fillna(value=king_features.yr_renovated.median(), inplace = True)\n",
    "king_features.sqft_basement.fillna(value=king_features.sqft_basement.median(), inplace = True)\n"
   ]
  },
  {
   "cell_type": "code",
   "execution_count": 6,
   "metadata": {},
   "outputs": [],
   "source": [
    "# Change 'date' feature to float\n",
    "import datetime as dt\n",
    "data['date'] = pd.to_datetime(data['date'])\n",
    "data['date'] = data['date'].map(dt.datetime.toordinal)"
   ]
  },
  {
   "cell_type": "code",
   "execution_count": 7,
   "metadata": {},
   "outputs": [],
   "source": [
    "# Change 'sqft_basement' from an object to a float:\n",
    "king_features['sqft_basement'] = king_features['sqft_basement'].astype(float)"
   ]
  },
  {
   "cell_type": "code",
   "execution_count": 8,
   "metadata": {},
   "outputs": [],
   "source": [
    "king_features = king_features.drop([\"id\"], axis=1)"
   ]
  },
  {
   "cell_type": "markdown",
   "metadata": {},
   "source": [
    "### Outliers"
   ]
  },
  {
   "cell_type": "code",
   "execution_count": 9,
   "metadata": {},
   "outputs": [],
   "source": [
    "# Change outlier '33' to '3' in 'bedrooms';\n",
    "king_features.at[15856,'bedrooms'] = 3"
   ]
  },
  {
   "cell_type": "code",
   "execution_count": 10,
   "metadata": {},
   "outputs": [],
   "source": [
    "# Drop additional outliers using three standard deviations above the mean.\n",
    "king_features = king_features[king_features.bathrooms < 4.42]\n",
    "king_features = king_features[king_features.bedrooms < 6.08]\n",
    "king_features = king_features[king_features.sqft_living < 4834.64]\n",
    "king_features = king_features[king_features.sqft_lot < 139337.32]\n",
    "king_features = king_features[king_features.sqft_above < 4271.87]\n",
    "king_features = king_features[king_features.sqft_living15 < 4042.31]\n",
    "king_features = king_features[king_features.sqft_lot15 < 94581.61]"
   ]
  },
  {
   "cell_type": "markdown",
   "metadata": {},
   "source": [
    "### Categorical Data - Binning"
   ]
  },
  {
   "cell_type": "code",
   "execution_count": 11,
   "metadata": {},
   "outputs": [],
   "source": [
    "# Create bins for 'yr_renovated' based on the values observed. 4 values will result in 3 bins\n",
    "bins_A = [0, 1900, 2000, 2010, 2020]\n",
    "bins_yr_renovated = pd.cut(king_features['yr_renovated'], bins_A)\n",
    "bins_yr_renovated = bins_yr_renovated.cat.as_ordered()\n",
    "\n",
    "yr_renovated_dummy = pd.get_dummies(bins_yr_renovated, prefix=\"yr-ren\")\n",
    "king_features = king_features.drop([\"yr_renovated\"], axis=1)\n",
    "king_features = pd.concat([king_features, yr_renovated_dummy], axis=1)"
   ]
  },
  {
   "cell_type": "code",
   "execution_count": 12,
   "metadata": {},
   "outputs": [],
   "source": [
    "# Create bins for 'sqft_basement' based on the values observed. 3 values will result in 2 bins\n",
    "bins_B = [0, 100, 5000]\n",
    "bins_sqft_basement = pd.cut(king_features['sqft_basement'], bins_B)\n",
    "bins_sqft_basement = bins_sqft_basement.cat.as_ordered()\n",
    "\n",
    "# Changed to drop_first=False but have to leave it out. \n",
    "sqft_basement_dummy = pd.get_dummies(bins_sqft_basement, prefix=\"sqft_base\", drop_first=True)\n",
    "king_features = king_features.drop([\"sqft_basement\"], axis=1)\n",
    "king_features = pd.concat([king_features, sqft_basement_dummy], axis=1)"
   ]
  },
  {
   "cell_type": "code",
   "execution_count": 13,
   "metadata": {},
   "outputs": [],
   "source": [
    "# Create bins for 'view' based on the values observed. 3 values will result in 2 bins\n",
    "bins_C = [0, 2, 4]\n",
    "bins_view = pd.cut(king_features['view'], bins_C)\n",
    "bins_view = bins_view.cat.as_ordered()\n",
    "\n",
    "view_dummy = pd.get_dummies(bins_view, prefix=\"new_view\", drop_first=True)\n",
    "king_features = king_features.drop([\"view\"], axis=1)\n",
    "king_features = pd.concat([king_features, view_dummy], axis=1)"
   ]
  },
  {
   "cell_type": "code",
   "execution_count": 14,
   "metadata": {},
   "outputs": [],
   "source": [
    "# Create bins for 'grade' based on the values observed. 3 values will result in 2 bins\n",
    "bins_D = [0, 5, 8, 10, 13]\n",
    "bins_grade = pd.cut(king_features['grade'], bins_D)\n",
    "bins_grade = bins_grade.cat.as_ordered()\n",
    "\n",
    "grade_dummy = pd.get_dummies(bins_grade, prefix=\"new_grade\")\n",
    "king_features = king_features.drop([\"grade\"], axis=1)\n",
    "king_features = pd.concat([king_features, grade_dummy], axis=1)"
   ]
  },
  {
   "cell_type": "code",
   "execution_count": 15,
   "metadata": {},
   "outputs": [],
   "source": [
    "# Create bins for 'waterfront' based on the values observed. 3 values will result in 2 bins\n",
    "bins_E = [0, 0.5, 1]\n",
    "bins_waterfront = pd.cut(king_features['waterfront'], bins_E)\n",
    "bins_waterfront = bins_waterfront.cat.as_ordered()\n",
    "\n",
    "waterfront_dummy = pd.get_dummies(bins_waterfront, prefix=\"new_waterfront\", drop_first=True)\n",
    "king_features = king_features.drop([\"waterfront\"], axis=1)\n",
    "king_features = pd.concat([king_features, waterfront_dummy], axis=1)"
   ]
  },
  {
   "cell_type": "code",
   "execution_count": 16,
   "metadata": {},
   "outputs": [],
   "source": [
    "# Create bins for 'condition' based on the values observed. 6 values will result in 5 bins\n",
    "bins_G = [0, 1, 2, 3, 4, 5]\n",
    "bins_condition = pd.cut(king_features['condition'], bins_G)\n",
    "bins_condition = bins_condition.cat.as_ordered()\n",
    "\n",
    "condition_dummy = pd.get_dummies(bins_condition, prefix=\"new_condition\")\n",
    "king_features = king_features.drop([\"condition\"], axis=1)\n",
    "king_features = pd.concat([king_features, condition_dummy], axis=1)"
   ]
  },
  {
   "cell_type": "code",
   "execution_count": 17,
   "metadata": {},
   "outputs": [],
   "source": [
    "# Create bins for 'zipcode' based on the values observed. 4 values will result in 3 bins\n",
    "bins_H = [98000, 98100, 98200, 98300]\n",
    "bins_zipcode = pd.cut(king_features['zipcode'], bins_H)\n",
    "bins_zipcode = bins_zipcode.cat.as_ordered()\n",
    "\n",
    "zipcode_dummy = pd.get_dummies(bins_zipcode, prefix=\"new_zipcode\")\n",
    "king_features = king_features.drop([\"zipcode\"], axis=1)\n",
    "king_features = pd.concat([king_features, zipcode_dummy], axis=1)"
   ]
  },
  {
   "cell_type": "markdown",
   "metadata": {},
   "source": [
    "### Log Transformation: These features have right skewed histograms\n",
    "'sqft_above', 'sqft_lot', 'sqft_living', 'sqft_living15', 'sqft_lot15'"
   ]
  },
  {
   "cell_type": "code",
   "execution_count": 18,
   "metadata": {},
   "outputs": [],
   "source": [
    "# Perform log transformation\n",
    "logabove = np.log(king_features[\"sqft_above\"])\n",
    "loglot = np.log(king_features[\"sqft_lot\"])\n",
    "logliving = np.log(king_features[\"sqft_living\"])\n",
    "loglivingnear = np.log(king_features[\"sqft_living15\"])\n",
    "loglotnear = np.log(king_features[\"sqft_lot15\"])\n",
    "\n",
    "# Switch the Standardization into the original data\n",
    "king_features[\"sqft_above\"] = (logabove-np.mean(logabove))/np.sqrt(np.var(logabove))\n",
    "king_features[\"sqft_lot\"] = (loglot-np.mean(loglot))/np.sqrt(np.var(loglot))\n",
    "king_features[\"sqft_living\"] = (logliving-np.mean(logliving))/np.sqrt(np.var(logliving))\n",
    "king_features[\"sqft_living15\"] = (loglivingnear-np.mean(loglivingnear))/np.sqrt(np.var(loglivingnear))\n",
    "king_features[\"sqft_lot15\"] = (loglotnear-np.mean(loglotnear))/(np.sqrt(np.var(loglotnear)))"
   ]
  },
  {
   "cell_type": "code",
   "execution_count": 29,
   "metadata": {},
   "outputs": [],
   "source": [
    "y = pd.DataFrame(king_features, columns = ['price'])\n",
    "X = king_features.drop([\"price\", 'date', 'sqft_lot', 'floors', \"new_zipcode_(98200, 98300]\"], axis=1)"
   ]
  },
  {
   "cell_type": "code",
   "execution_count": 30,
   "metadata": {},
   "outputs": [
    {
     "data": {
      "text/html": [
       "<table class=\"simpletable\">\n",
       "<caption>OLS Regression Results</caption>\n",
       "<tr>\n",
       "  <th>Dep. Variable:</th>          <td>price</td>      <th>  R-squared:         </th>  <td>   0.667</td>  \n",
       "</tr>\n",
       "<tr>\n",
       "  <th>Model:</th>                   <td>OLS</td>       <th>  Adj. R-squared:    </th>  <td>   0.667</td>  \n",
       "</tr>\n",
       "<tr>\n",
       "  <th>Method:</th>             <td>Least Squares</td>  <th>  F-statistic:       </th>  <td>   1789.</td>  \n",
       "</tr>\n",
       "<tr>\n",
       "  <th>Date:</th>             <td>Sun, 20 Oct 2019</td> <th>  Prob (F-statistic):</th>   <td>  0.00</td>   \n",
       "</tr>\n",
       "<tr>\n",
       "  <th>Time:</th>                 <td>13:33:12</td>     <th>  Log-Likelihood:    </th> <td>-2.7671e+05</td>\n",
       "</tr>\n",
       "<tr>\n",
       "  <th>No. Observations:</th>      <td> 20570</td>      <th>  AIC:               </th>  <td>5.535e+05</td> \n",
       "</tr>\n",
       "<tr>\n",
       "  <th>Df Residuals:</th>          <td> 20546</td>      <th>  BIC:               </th>  <td>5.537e+05</td> \n",
       "</tr>\n",
       "<tr>\n",
       "  <th>Df Model:</th>              <td>    23</td>      <th>                     </th>      <td> </td>     \n",
       "</tr>\n",
       "<tr>\n",
       "  <th>Covariance Type:</th>      <td>nonrobust</td>    <th>                     </th>      <td> </td>     \n",
       "</tr>\n",
       "</table>\n",
       "<table class=\"simpletable\">\n",
       "<tr>\n",
       "               <td></td>                 <th>coef</th>     <th>std err</th>      <th>t</th>      <th>P>|t|</th>  <th>[0.025</th>    <th>0.975]</th>  \n",
       "</tr>\n",
       "<tr>\n",
       "  <th>bedrooms</th>                   <td>-1.705e+04</td> <td> 1829.428</td> <td>   -9.318</td> <td> 0.000</td> <td>-2.06e+04</td> <td>-1.35e+04</td>\n",
       "</tr>\n",
       "<tr>\n",
       "  <th>bathrooms</th>                  <td> 5.096e+04</td> <td> 2920.586</td> <td>   17.449</td> <td> 0.000</td> <td> 4.52e+04</td> <td> 5.67e+04</td>\n",
       "</tr>\n",
       "<tr>\n",
       "  <th>sqft_living</th>                <td> 2.192e+04</td> <td> 4743.024</td> <td>    4.621</td> <td> 0.000</td> <td> 1.26e+04</td> <td> 3.12e+04</td>\n",
       "</tr>\n",
       "<tr>\n",
       "  <th>sqft_above</th>                 <td> 7.235e+04</td> <td> 4496.938</td> <td>   16.089</td> <td> 0.000</td> <td> 6.35e+04</td> <td> 8.12e+04</td>\n",
       "</tr>\n",
       "<tr>\n",
       "  <th>yr_built</th>                   <td>-1904.3417</td> <td>   62.201</td> <td>  -30.616</td> <td> 0.000</td> <td>-2026.260</td> <td>-1782.424</td>\n",
       "</tr>\n",
       "<tr>\n",
       "  <th>lat</th>                        <td> 5.879e+05</td> <td> 9349.426</td> <td>   62.876</td> <td> 0.000</td> <td>  5.7e+05</td> <td> 6.06e+05</td>\n",
       "</tr>\n",
       "<tr>\n",
       "  <th>long</th>                       <td>-7.251e+04</td> <td> 1.27e+04</td> <td>   -5.692</td> <td> 0.000</td> <td>-9.75e+04</td> <td>-4.75e+04</td>\n",
       "</tr>\n",
       "<tr>\n",
       "  <th>sqft_living15</th>              <td> 4.813e+04</td> <td> 1924.194</td> <td>   25.012</td> <td> 0.000</td> <td> 4.44e+04</td> <td> 5.19e+04</td>\n",
       "</tr>\n",
       "<tr>\n",
       "  <th>sqft_lot15</th>                 <td>-2.468e+04</td> <td> 1473.396</td> <td>  -16.751</td> <td> 0.000</td> <td>-2.76e+04</td> <td>-2.18e+04</td>\n",
       "</tr>\n",
       "<tr>\n",
       "  <th>yr-ren_(0, 1900]</th>           <td>-6.044e-06</td> <td> 3.16e-07</td> <td>  -19.127</td> <td> 0.000</td> <td>-6.66e-06</td> <td>-5.42e-06</td>\n",
       "</tr>\n",
       "<tr>\n",
       "  <th>yr-ren_(1900, 2000]</th>        <td> 3.705e+04</td> <td> 9160.025</td> <td>    4.045</td> <td> 0.000</td> <td> 1.91e+04</td> <td>  5.5e+04</td>\n",
       "</tr>\n",
       "<tr>\n",
       "  <th>yr-ren_(2000, 2010]</th>        <td> 1.449e+05</td> <td> 1.24e+04</td> <td>   11.710</td> <td> 0.000</td> <td> 1.21e+05</td> <td> 1.69e+05</td>\n",
       "</tr>\n",
       "<tr>\n",
       "  <th>yr-ren_(2010, 2020]</th>        <td> 7.397e+04</td> <td> 1.49e+04</td> <td>    4.976</td> <td> 0.000</td> <td> 4.48e+04</td> <td> 1.03e+05</td>\n",
       "</tr>\n",
       "<tr>\n",
       "  <th>sqft_base_(100, 5000]</th>      <td> 6.196e+04</td> <td> 4992.165</td> <td>   12.411</td> <td> 0.000</td> <td> 5.22e+04</td> <td> 7.17e+04</td>\n",
       "</tr>\n",
       "<tr>\n",
       "  <th>new_view_(2, 4]</th>            <td> 1.781e+05</td> <td> 7479.604</td> <td>   23.815</td> <td> 0.000</td> <td> 1.63e+05</td> <td> 1.93e+05</td>\n",
       "</tr>\n",
       "<tr>\n",
       "  <th>new_grade_(0, 5]</th>           <td> -8.75e+06</td> <td> 4.46e+05</td> <td>  -19.597</td> <td> 0.000</td> <td>-9.62e+06</td> <td>-7.87e+06</td>\n",
       "</tr>\n",
       "<tr>\n",
       "  <th>new_grade_(5, 8]</th>           <td>-8.744e+06</td> <td> 4.47e+05</td> <td>  -19.558</td> <td> 0.000</td> <td>-9.62e+06</td> <td>-7.87e+06</td>\n",
       "</tr>\n",
       "<tr>\n",
       "  <th>new_grade_(8, 10]</th>          <td>-8.539e+06</td> <td> 4.47e+05</td> <td>  -19.090</td> <td> 0.000</td> <td>-9.42e+06</td> <td>-7.66e+06</td>\n",
       "</tr>\n",
       "<tr>\n",
       "  <th>new_grade_(10, 13]</th>         <td>-8.174e+06</td> <td> 4.48e+05</td> <td>  -18.255</td> <td> 0.000</td> <td>-9.05e+06</td> <td> -7.3e+06</td>\n",
       "</tr>\n",
       "<tr>\n",
       "  <th>new_waterfront_(0.5, 1.0]</th>  <td> 5.041e+05</td> <td> 1.74e+04</td> <td>   28.946</td> <td> 0.000</td> <td>  4.7e+05</td> <td> 5.38e+05</td>\n",
       "</tr>\n",
       "<tr>\n",
       "  <th>new_condition_(0, 1]</th>       <td> -6.91e+06</td> <td> 3.59e+05</td> <td>  -19.262</td> <td> 0.000</td> <td>-7.61e+06</td> <td>-6.21e+06</td>\n",
       "</tr>\n",
       "<tr>\n",
       "  <th>new_condition_(1, 2]</th>       <td>-6.867e+06</td> <td> 3.58e+05</td> <td>  -19.192</td> <td> 0.000</td> <td>-7.57e+06</td> <td>-6.17e+06</td>\n",
       "</tr>\n",
       "<tr>\n",
       "  <th>new_condition_(2, 3]</th>       <td>-6.851e+06</td> <td> 3.58e+05</td> <td>  -19.154</td> <td> 0.000</td> <td>-7.55e+06</td> <td>-6.15e+06</td>\n",
       "</tr>\n",
       "<tr>\n",
       "  <th>new_condition_(3, 4]</th>       <td>-6.809e+06</td> <td> 3.58e+05</td> <td>  -19.028</td> <td> 0.000</td> <td>-7.51e+06</td> <td>-6.11e+06</td>\n",
       "</tr>\n",
       "<tr>\n",
       "  <th>new_condition_(4, 5]</th>       <td>-6.768e+06</td> <td> 3.58e+05</td> <td>  -18.924</td> <td> 0.000</td> <td>-7.47e+06</td> <td>-6.07e+06</td>\n",
       "</tr>\n",
       "<tr>\n",
       "  <th>new_zipcode_(98000, 98100]</th> <td> -1.71e+07</td> <td> 8.93e+05</td> <td>  -19.152</td> <td> 0.000</td> <td>-1.89e+07</td> <td>-1.54e+07</td>\n",
       "</tr>\n",
       "<tr>\n",
       "  <th>new_zipcode_(98100, 98200]</th> <td> -1.71e+07</td> <td> 8.95e+05</td> <td>  -19.101</td> <td> 0.000</td> <td>-1.89e+07</td> <td>-1.53e+07</td>\n",
       "</tr>\n",
       "</table>\n",
       "<table class=\"simpletable\">\n",
       "<tr>\n",
       "  <th>Omnibus:</th>       <td>9627.391</td> <th>  Durbin-Watson:     </th>  <td>   1.980</td> \n",
       "</tr>\n",
       "<tr>\n",
       "  <th>Prob(Omnibus):</th>  <td> 0.000</td>  <th>  Jarque-Bera (JB):  </th> <td>118751.216</td>\n",
       "</tr>\n",
       "<tr>\n",
       "  <th>Skew:</th>           <td> 1.932</td>  <th>  Prob(JB):          </th>  <td>    0.00</td> \n",
       "</tr>\n",
       "<tr>\n",
       "  <th>Kurtosis:</th>       <td>14.118</td>  <th>  Cond. No.          </th>  <td>1.03e+16</td> \n",
       "</tr>\n",
       "</table><br/><br/>Warnings:<br/>[1] Standard Errors assume that the covariance matrix of the errors is correctly specified.<br/>[2] The smallest eigenvalue is 7.52e-22. This might indicate that there are<br/>strong multicollinearity problems or that the design matrix is singular."
      ],
      "text/plain": [
       "<class 'statsmodels.iolib.summary.Summary'>\n",
       "\"\"\"\n",
       "                            OLS Regression Results                            \n",
       "==============================================================================\n",
       "Dep. Variable:                  price   R-squared:                       0.667\n",
       "Model:                            OLS   Adj. R-squared:                  0.667\n",
       "Method:                 Least Squares   F-statistic:                     1789.\n",
       "Date:                Sun, 20 Oct 2019   Prob (F-statistic):               0.00\n",
       "Time:                        13:33:12   Log-Likelihood:            -2.7671e+05\n",
       "No. Observations:               20570   AIC:                         5.535e+05\n",
       "Df Residuals:                   20546   BIC:                         5.537e+05\n",
       "Df Model:                          23                                         \n",
       "Covariance Type:            nonrobust                                         \n",
       "==============================================================================================\n",
       "                                 coef    std err          t      P>|t|      [0.025      0.975]\n",
       "----------------------------------------------------------------------------------------------\n",
       "bedrooms                   -1.705e+04   1829.428     -9.318      0.000   -2.06e+04   -1.35e+04\n",
       "bathrooms                   5.096e+04   2920.586     17.449      0.000    4.52e+04    5.67e+04\n",
       "sqft_living                 2.192e+04   4743.024      4.621      0.000    1.26e+04    3.12e+04\n",
       "sqft_above                  7.235e+04   4496.938     16.089      0.000    6.35e+04    8.12e+04\n",
       "yr_built                   -1904.3417     62.201    -30.616      0.000   -2026.260   -1782.424\n",
       "lat                         5.879e+05   9349.426     62.876      0.000     5.7e+05    6.06e+05\n",
       "long                       -7.251e+04   1.27e+04     -5.692      0.000   -9.75e+04   -4.75e+04\n",
       "sqft_living15               4.813e+04   1924.194     25.012      0.000    4.44e+04    5.19e+04\n",
       "sqft_lot15                 -2.468e+04   1473.396    -16.751      0.000   -2.76e+04   -2.18e+04\n",
       "yr-ren_(0, 1900]           -6.044e-06   3.16e-07    -19.127      0.000   -6.66e-06   -5.42e-06\n",
       "yr-ren_(1900, 2000]         3.705e+04   9160.025      4.045      0.000    1.91e+04     5.5e+04\n",
       "yr-ren_(2000, 2010]         1.449e+05   1.24e+04     11.710      0.000    1.21e+05    1.69e+05\n",
       "yr-ren_(2010, 2020]         7.397e+04   1.49e+04      4.976      0.000    4.48e+04    1.03e+05\n",
       "sqft_base_(100, 5000]       6.196e+04   4992.165     12.411      0.000    5.22e+04    7.17e+04\n",
       "new_view_(2, 4]             1.781e+05   7479.604     23.815      0.000    1.63e+05    1.93e+05\n",
       "new_grade_(0, 5]            -8.75e+06   4.46e+05    -19.597      0.000   -9.62e+06   -7.87e+06\n",
       "new_grade_(5, 8]           -8.744e+06   4.47e+05    -19.558      0.000   -9.62e+06   -7.87e+06\n",
       "new_grade_(8, 10]          -8.539e+06   4.47e+05    -19.090      0.000   -9.42e+06   -7.66e+06\n",
       "new_grade_(10, 13]         -8.174e+06   4.48e+05    -18.255      0.000   -9.05e+06    -7.3e+06\n",
       "new_waterfront_(0.5, 1.0]   5.041e+05   1.74e+04     28.946      0.000     4.7e+05    5.38e+05\n",
       "new_condition_(0, 1]        -6.91e+06   3.59e+05    -19.262      0.000   -7.61e+06   -6.21e+06\n",
       "new_condition_(1, 2]       -6.867e+06   3.58e+05    -19.192      0.000   -7.57e+06   -6.17e+06\n",
       "new_condition_(2, 3]       -6.851e+06   3.58e+05    -19.154      0.000   -7.55e+06   -6.15e+06\n",
       "new_condition_(3, 4]       -6.809e+06   3.58e+05    -19.028      0.000   -7.51e+06   -6.11e+06\n",
       "new_condition_(4, 5]       -6.768e+06   3.58e+05    -18.924      0.000   -7.47e+06   -6.07e+06\n",
       "new_zipcode_(98000, 98100]  -1.71e+07   8.93e+05    -19.152      0.000   -1.89e+07   -1.54e+07\n",
       "new_zipcode_(98100, 98200]  -1.71e+07   8.95e+05    -19.101      0.000   -1.89e+07   -1.53e+07\n",
       "==============================================================================\n",
       "Omnibus:                     9627.391   Durbin-Watson:                   1.980\n",
       "Prob(Omnibus):                  0.000   Jarque-Bera (JB):           118751.216\n",
       "Skew:                           1.932   Prob(JB):                         0.00\n",
       "Kurtosis:                      14.118   Cond. No.                     1.03e+16\n",
       "==============================================================================\n",
       "\n",
       "Warnings:\n",
       "[1] Standard Errors assume that the covariance matrix of the errors is correctly specified.\n",
       "[2] The smallest eigenvalue is 7.52e-22. This might indicate that there are\n",
       "strong multicollinearity problems or that the design matrix is singular.\n",
       "\"\"\""
      ]
     },
     "execution_count": 30,
     "metadata": {},
     "output_type": "execute_result"
    }
   ],
   "source": [
    "import statsmodels.api as sm\n",
    "model = sm.OLS(y,X).fit()\n",
    "model.summary()"
   ]
  },
  {
   "cell_type": "code",
   "execution_count": null,
   "metadata": {},
   "outputs": [],
   "source": []
  },
  {
   "cell_type": "code",
   "execution_count": 21,
   "metadata": {},
   "outputs": [
    {
     "name": "stdout",
     "output_type": "stream",
     "text": [
      "15427 5143 15427 5143\n"
     ]
    }
   ],
   "source": [
    "# Perform a train-test split\n",
    "from sklearn.model_selection import train_test_split\n",
    "X_train, X_test, y_train, y_test = train_test_split(X, y)\n",
    "# A brief preview of our train test split\n",
    "print(len(X_train), len(X_test), len(y_train), len(y_test))"
   ]
  },
  {
   "cell_type": "code",
   "execution_count": 22,
   "metadata": {},
   "outputs": [
    {
     "data": {
      "text/plain": [
       "LinearRegression(copy_X=True, fit_intercept=True, n_jobs=1, normalize=False)"
      ]
     },
     "execution_count": 22,
     "metadata": {},
     "output_type": "execute_result"
    }
   ],
   "source": [
    "# Apply your model to the train set\n",
    "from sklearn.linear_model import LinearRegression\n",
    "linreg = LinearRegression()\n",
    "linreg.fit(X_train, y_train)\n",
    "LinearRegression(copy_X=True, fit_intercept=True, n_jobs=1, normalize=False)"
   ]
  },
  {
   "cell_type": "code",
   "execution_count": 23,
   "metadata": {},
   "outputs": [],
   "source": [
    "# Calculate predictions on training and test sets\n",
    "y_hat_train = linreg.predict(X_train)\n",
    "y_hat_test = linreg.predict(X_test)\n",
    "\n",
    "# Calculate training and test residuals\n",
    "train_residuals = y_hat_train - y_train\n",
    "test_residuals = y_hat_test - y_test"
   ]
  },
  {
   "cell_type": "code",
   "execution_count": 24,
   "metadata": {},
   "outputs": [
    {
     "name": "stdout",
     "output_type": "stream",
     "text": [
      "Train Mean Squarred Error: 28149550410.240177\n",
      "Test Mean Squarred Error: 28811255940.07311\n"
     ]
    }
   ],
   "source": [
    "#Calculate the Mean Squared Error (MSE)\n",
    "from sklearn.metrics import mean_squared_error\n",
    "\n",
    "train_mse = mean_squared_error(y_train, y_hat_train)\n",
    "test_mse = mean_squared_error(y_test, y_hat_test)\n",
    "\n",
    "print('Train Mean Squarred Error:', train_mse)\n",
    "print('Test Mean Squarred Error:', test_mse)"
   ]
  },
  {
   "cell_type": "code",
   "execution_count": 25,
   "metadata": {},
   "outputs": [
    {
     "data": {
      "text/plain": [
       "<matplotlib.legend.Legend at 0x119ef6f28>"
      ]
     },
     "execution_count": 25,
     "metadata": {},
     "output_type": "execute_result"
    },
    {
     "data": {
      "image/png": "[encoded data removed]",
      "text/plain": [
       "<Figure size 432x288 with 1 Axes>"
      ]
     },
     "metadata": {
      "needs_background": "light"
     },
     "output_type": "display_data"
    }
   ],
   "source": [
    "#Evaluate the effect of train-test split \n",
    "import random\n",
    "random.seed(8)\n",
    "train_err = []\n",
    "test_err = []\n",
    "t_sizes = list(range(5,100,5))\n",
    "for t_size in t_sizes:\n",
    "    temp_train_err = []\n",
    "    temp_test_err = []\n",
    "    for i in range(100):\n",
    "        X_train, X_test, y_train, y_test = train_test_split(X, y, test_size=t_size/100)\n",
    "        linreg.fit(X_train, y_train)\n",
    "        y_hat_train = linreg.predict(X_train)\n",
    "        y_hat_test = linreg.predict(X_test)\n",
    "        temp_train_err.append(mean_squared_error(y_train, y_hat_train))\n",
    "        temp_test_err.append(mean_squared_error(y_test, y_hat_test))\n",
    "    train_err.append(np.mean(temp_train_err))\n",
    "    test_err.append(np.mean(temp_test_err))\n",
    "plt.scatter(t_sizes, train_err, label='Training Error')\n",
    "plt.scatter(t_sizes, test_err, label='Testing Error')\n",
    "plt.legend()"
   ]
  },
  {
   "cell_type": "code",
   "execution_count": 26,
   "metadata": {},
   "outputs": [
    {
     "data": {
      "text/plain": [
       "-28691107289.894726"
      ]
     },
     "execution_count": 26,
     "metadata": {},
     "output_type": "execute_result"
    }
   ],
   "source": [
    "from sklearn.metrics import mean_squared_error\n",
    "from sklearn.model_selection import cross_val_score\n",
    "\n",
    "cv_5_results  = np.mean(cross_val_score(linreg, X, y, cv=5,  scoring='neg_mean_squared_error'))\n",
    "cv_5_results"
   ]
  },
  {
   "cell_type": "markdown",
   "metadata": {},
   "source": [
    "## Results"
   ]
  },
  {
   "cell_type": "markdown",
   "metadata": {},
   "source": [
    "######  R^2 = 0.667, P-Values are perfect, MSE's are reasonable"
   ]
  },
  {
   "cell_type": "code",
   "execution_count": null,
   "metadata": {},
   "outputs": [],
   "source": []
  },
  {
   "cell_type": "code",
   "execution_count": null,
   "metadata": {},
   "outputs": [],
   "source": []
  },
  {
   "cell_type": "code",
   "execution_count": null,
   "metadata": {},
   "outputs": [],
   "source": []
  }
 ],
 "metadata": {
  "kernelspec": {
   "display_name": "learn-env",
   "language": "python",
   "name": "learn-env"
  },
  "language_info": {
   "codemirror_mode": {
    "name": "ipython",
    "version": 3
   },
   "file_extension": ".py",
   "mimetype": "text/x-python",
   "name": "python",
   "nbconvert_exporter": "python",
   "pygments_lexer": "ipython3",
   "version": "3.6.6"
  }
 },
 "nbformat": 4,
 "nbformat_minor": 2
}
